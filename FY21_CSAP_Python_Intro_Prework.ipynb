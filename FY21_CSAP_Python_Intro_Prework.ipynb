{
  "nbformat": 4,
  "nbformat_minor": 0,
  "metadata": {
    "colab": {
      "name": "FY21 CSAP Python Intro - Prework.ipynb",
      "provenance": [],
      "collapsed_sections": [],
      "authorship_tag": "ABX9TyOoOxRMWswTT89mID7Lchfw"
    },
    "kernelspec": {
      "name": "python3",
      "display_name": "Python 3"
    }
  },
  "cells": [
    {
      "cell_type": "markdown",
      "metadata": {
        "id": "_36vvtF4Hlby"
      },
      "source": [
        "## Introduction"
      ]
    },
    {
      "cell_type": "markdown",
      "metadata": {
        "id": "j7Te1Z3eHDKf"
      },
      "source": [
        "Thank you for participating in this prework activity! This short introduction to Python assumes no prior programming experience and starts from absolute scratch. \n",
        "\n",
        "In case you are not familiar with this kind of document that we call a Python notebook: each cell can be executed independently and you can add cells accordingly. Feel free to try it out, by executing the cute little cell below!"
      ]
    },
    {
      "cell_type": "code",
      "metadata": {
        "id": "73FnI4Z9_73_",
        "outputId": "29fd1fb4-c3e7-44a7-f3eb-9f546016b747",
        "colab": {
          "base_uri": "https://localhost:8080/"
        }
      },
      "source": [
        "print(\"Damn, this is easy!\")"
      ],
      "execution_count": null,
      "outputs": [
        {
          "output_type": "stream",
          "text": [
            "Damn, this is easy!\n"
          ],
          "name": "stdout"
        }
      ]
    },
    {
      "cell_type": "markdown",
      "metadata": {
        "id": "Efa2jUUNIML8"
      },
      "source": [
        "## Learning Objectives\n"
      ]
    },
    {
      "cell_type": "markdown",
      "metadata": {
        "id": "qNjhy1IIIRLx"
      },
      "source": [
        "**What will you learn in this prework?**\n",
        "\n",
        "\n",
        "During this prework, we will focus on the following topics:\n",
        "\n",
        "*   Python's core philosophy (or: how Python introduces itself on a hot date)\n",
        "*   Python's data types (or: how to \"speak\" Python)\n",
        "    * Integers and floats\n",
        "    * Strings\n",
        "    * Booleans\n",
        "    * Lists\n",
        "    * Dictionaries\n",
        "* Python's computation constructs (or: how to get your Python code to actually do stuff)\n",
        "  * `if`-statements\n",
        "  * `for/while` loops\n",
        "  * `import` modules\n",
        "  * Functions\n",
        "  * Classes\n",
        "* Putting it all together: How to write a Python script\n"
      ]
    },
    {
      "cell_type": "markdown",
      "metadata": {
        "id": "V5fBJ7xAO3v7"
      },
      "source": [
        "## Python's core philosophy\n"
      ]
    },
    {
      "cell_type": "markdown",
      "metadata": {
        "id": "v1UIB6N6Puyy"
      },
      "source": [
        "* Beautiful is better than ugly.\n",
        "* Explicit is better than implicit.\n",
        "* Simple is better than complex.\n",
        "* Complex is better than complicated.\n",
        "* Readability counts.\n"
      ]
    },
    {
      "cell_type": "markdown",
      "metadata": {
        "id": "pOuNNMPVSbnp"
      },
      "source": [
        "## Data Types\n"
      ]
    },
    {
      "cell_type": "markdown",
      "metadata": {
        "id": "HxPsP_6nS0KP"
      },
      "source": [
        "In Python, you can easily give your data a \"name\" - by assigning it to a **variable**. Such a variable is essentially a label for a data object stored in your computer's memory. In the following sections, we will cover some basic data types - by assigning data pieces of different types to some easy-to-use variables you can then leverage for your own experimentations. "
      ]
    },
    {
      "cell_type": "markdown",
      "metadata": {
        "id": "S1CU6JkSShtB"
      },
      "source": [
        "### Integers and floats\n"
      ]
    },
    {
      "cell_type": "markdown",
      "metadata": {
        "id": "EYGhlGlaSomI"
      },
      "source": [
        "You can assign an integer (let's say, 3) to a variable (let's say, `x`) by putting no more than an equals sign in between: `x = 3`"
      ]
    },
    {
      "cell_type": "code",
      "metadata": {
        "id": "Mn3jaYZSSnYz"
      },
      "source": [
        "x = 3"
      ],
      "execution_count": null,
      "outputs": []
    },
    {
      "cell_type": "markdown",
      "metadata": {
        "id": "TTdiqc-TTbZB"
      },
      "source": [
        "Yay! We now got `x` to correspond to the integer 3. In order to check whether this is working or not, you can just use `x` in a computation - for example by printing out its data type:"
      ]
    },
    {
      "cell_type": "code",
      "metadata": {
        "id": "Atp4IhW0TamT",
        "outputId": "59a7aeb7-e531-40af-eacd-a325ae70d8e2",
        "colab": {
          "base_uri": "https://localhost:8080/"
        }
      },
      "source": [
        "print(x, type(x))"
      ],
      "execution_count": null,
      "outputs": [
        {
          "output_type": "stream",
          "text": [
            "3 <class 'int'>\n"
          ],
          "name": "stdout"
        }
      ]
    },
    {
      "cell_type": "markdown",
      "metadata": {
        "id": "wfY08g8ITqbm"
      },
      "source": [
        "Moreover, you can add comments to your code, which will with making your code readable. These comments will be ignored when executing your scripts, so you can be as silly as you want!"
      ]
    },
    {
      "cell_type": "code",
      "metadata": {
        "id": "XDTZQayAUDvC",
        "outputId": "17967a9d-d020-44b6-e196-284db9debd57",
        "colab": {
          "base_uri": "https://localhost:8080/"
        }
      },
      "source": [
        "# Here, I add two numbers\n",
        "y = x + 1 # addition\n",
        "print(y)"
      ],
      "execution_count": null,
      "outputs": [
        {
          "output_type": "stream",
          "text": [
            "4\n"
          ],
          "name": "stdout"
        }
      ]
    },
    {
      "cell_type": "markdown",
      "metadata": {
        "id": "qADbmAVEUTZ6"
      },
      "source": [
        "Apart from addition, you can also perform subtraction, multiplication and exponentiation. "
      ]
    },
    {
      "cell_type": "code",
      "metadata": {
        "id": "DAN8WqEPUbBI",
        "outputId": "a68e3650-5a3e-4a0e-9bf4-29a18998536b",
        "colab": {
          "base_uri": "https://localhost:8080/"
        }
      },
      "source": [
        "print(y-1)  # subtraction\n",
        "print(y*2)  # multiplication\n",
        "print(y**2) # exponentiation\n",
        "print(y/2)  # division\n",
        "print(y//2) # floor division"
      ],
      "execution_count": null,
      "outputs": [
        {
          "output_type": "stream",
          "text": [
            "3\n",
            "8\n",
            "16\n",
            "2.0\n",
            "2\n"
          ],
          "name": "stdout"
        }
      ]
    },
    {
      "cell_type": "markdown",
      "metadata": {
        "id": "apvcBLPMVgUI"
      },
      "source": [
        "Now, let's add an integer and a float. What will the result be? "
      ]
    },
    {
      "cell_type": "code",
      "metadata": {
        "id": "vQyekxsfVfj9",
        "outputId": "24bf1f36-d36e-412f-ad9c-a1c651dbcdfb",
        "colab": {
          "base_uri": "https://localhost:8080/",
          "height": 34
        }
      },
      "source": [
        "z = y + 2.5\n",
        "\n",
        "print(z, type(z))"
      ],
      "execution_count": null,
      "outputs": [
        {
          "output_type": "stream",
          "text": [
            "6.5 <class 'float'>\n"
          ],
          "name": "stdout"
        }
      ]
    },
    {
      "cell_type": "markdown",
      "metadata": {
        "id": "vhs1qSq7Unxv"
      },
      "source": [
        "### Strings"
      ]
    },
    {
      "cell_type": "markdown",
      "metadata": {
        "id": "zwLJPGR7VvuX"
      },
      "source": [
        "We can use both single quotes and double quotes for assigning strings to variables"
      ]
    },
    {
      "cell_type": "code",
      "metadata": {
        "id": "KNbVhrrhW4Lp",
        "outputId": "e7a14636-b987-43b7-b280-9435491ff503",
        "colab": {
          "base_uri": "https://localhost:8080/"
        }
      },
      "source": [
        "hello = 'hello'\n",
        "world = \"world\"\n",
        "apostrophe = \"CSAP's world\"\n",
        "\n",
        "print(apostrophe)"
      ],
      "execution_count": null,
      "outputs": [
        {
          "output_type": "stream",
          "text": [
            "CSAP's world\n"
          ],
          "name": "stdout"
        }
      ]
    },
    {
      "cell_type": "markdown",
      "metadata": {
        "id": "KYgVNAWXXNGM"
      },
      "source": [
        "You can concatenate string's by adding simply adding them together"
      ]
    },
    {
      "cell_type": "code",
      "metadata": {
        "id": "vBhpyESxXSiX",
        "outputId": "778fdfdf-c7ba-4dab-c394-b1155f3e461b",
        "colab": {
          "base_uri": "https://localhost:8080/"
        }
      },
      "source": [
        "hw = hello + ' ' + world + '!'\n",
        "print(hw)"
      ],
      "execution_count": null,
      "outputs": [
        {
          "output_type": "stream",
          "text": [
            "hello world!\n"
          ],
          "name": "stdout"
        }
      ]
    },
    {
      "cell_type": "markdown",
      "metadata": {
        "id": "dhFcCrp3XfUW"
      },
      "source": [
        "However, as you can see, it can become quite long and not very readable. Instead, we can do string formatting!"
      ]
    },
    {
      "cell_type": "code",
      "metadata": {
        "id": "GBSeieRRXedV",
        "outputId": "a5a96b9c-0478-4290-aa20-c08481c740dc",
        "colab": {
          "base_uri": "https://localhost:8080/"
        }
      },
      "source": [
        "string_format_hw = '{} {}!'.format(hello, world)\n",
        "print(string_format_hw)"
      ],
      "execution_count": null,
      "outputs": [
        {
          "output_type": "stream",
          "text": [
            "hello world!\n"
          ],
          "name": "stdout"
        }
      ]
    },
    {
      "cell_type": "markdown",
      "metadata": {
        "id": "L148_cMfYV7j"
      },
      "source": [
        "Moreover, we can also make use of `f-strings`"
      ]
    },
    {
      "cell_type": "code",
      "metadata": {
        "id": "QkcB2CrGYZnn",
        "outputId": "ed52754a-1e01-46d2-eebb-46cab5bda1ec",
        "colab": {
          "base_uri": "https://localhost:8080/"
        }
      },
      "source": [
        "f_string_hw = f'{hello} {apostrophe}!'\n",
        "print(f_string_hw)"
      ],
      "execution_count": null,
      "outputs": [
        {
          "output_type": "stream",
          "text": [
            "hello CSAP's world!\n"
          ],
          "name": "stdout"
        }
      ]
    },
    {
      "cell_type": "markdown",
      "metadata": {
        "id": "qaZF6DefZKep"
      },
      "source": [
        "But can you add an integer to a string? Let's try it out!"
      ]
    },
    {
      "cell_type": "code",
      "metadata": {
        "id": "ac3FrdnRZV1L",
        "outputId": "7814c435-d87e-4bdc-f530-442027eafb21",
        "colab": {
          "base_uri": "https://localhost:8080/",
          "height": 164
        }
      },
      "source": [
        "hw + x"
      ],
      "execution_count": null,
      "outputs": [
        {
          "output_type": "error",
          "ename": "TypeError",
          "evalue": "ignored",
          "traceback": [
            "\u001b[0;31m---------------------------------------------------------------------------\u001b[0m",
            "\u001b[0;31mTypeError\u001b[0m                                 Traceback (most recent call last)",
            "\u001b[0;32m<ipython-input-13-c93d5c3457b4>\u001b[0m in \u001b[0;36m<module>\u001b[0;34m()\u001b[0m\n\u001b[0;32m----> 1\u001b[0;31m \u001b[0mhw\u001b[0m \u001b[0;34m+\u001b[0m \u001b[0mx\u001b[0m\u001b[0;34m\u001b[0m\u001b[0;34m\u001b[0m\u001b[0m\n\u001b[0m",
            "\u001b[0;31mTypeError\u001b[0m: must be str, not int"
          ]
        }
      ]
    },
    {
      "cell_type": "markdown",
      "metadata": {
        "id": "UoSnn8jZZQVm"
      },
      "source": [
        "### Booleans"
      ]
    },
    {
      "cell_type": "markdown",
      "metadata": {
        "id": "vHKAoDumeihe"
      },
      "source": [
        "In Python, we can express a boolean either through the integers 1 and 0 or through `True` and `False` respectively. "
      ]
    },
    {
      "cell_type": "code",
      "metadata": {
        "id": "3neKR81gfC0M",
        "outputId": "37a85a8f-bdf2-41c9-d1d9-1157c11f620b",
        "colab": {
          "base_uri": "https://localhost:8080/"
        }
      },
      "source": [
        "t = True\n",
        "f = False\n",
        "print(t, type(t))"
      ],
      "execution_count": null,
      "outputs": [
        {
          "output_type": "stream",
          "text": [
            "True <class 'bool'>\n"
          ],
          "name": "stdout"
        }
      ]
    },
    {
      "cell_type": "markdown",
      "metadata": {
        "id": "zKUqftscfKsA"
      },
      "source": [
        "We can perform the following operations on booleans:\n"
      ]
    },
    {
      "cell_type": "code",
      "metadata": {
        "id": "J8KSiRz_fPem",
        "outputId": "77470837-dbea-4c95-a0d3-472dd76143b5",
        "colab": {
          "base_uri": "https://localhost:8080/"
        }
      },
      "source": [
        "print(t and f) # Logical AND;\n",
        "print(t or f)  # Logical OR;\n",
        "print(not t)   # Logical NOT;\n",
        "print(t != f)  # Logical XOR;"
      ],
      "execution_count": null,
      "outputs": [
        {
          "output_type": "stream",
          "text": [
            "False\n",
            "True\n",
            "False\n",
            "True\n"
          ],
          "name": "stdout"
        }
      ]
    },
    {
      "cell_type": "markdown",
      "metadata": {
        "id": "hbZlL-vFfQY9"
      },
      "source": [
        "### Lists"
      ]
    },
    {
      "cell_type": "markdown",
      "metadata": {
        "id": "feIyWcyLfZO5"
      },
      "source": [
        "A list is the Python equivalent of an array (i.e., an ordered collection of data elements). A Python list is resizeable and can contain elements of different types. A list is indicated by the square brackets. "
      ]
    },
    {
      "cell_type": "code",
      "metadata": {
        "id": "tL7qqCv5gJ1x",
        "outputId": "096e6634-a6e6-4882-8718-9323ff250f43",
        "colab": {
          "base_uri": "https://localhost:8080/"
        }
      },
      "source": [
        "my_list = [3, 1, 2]   # Create a list\n",
        "print(my_list, my_list[2])\n",
        "print(my_list[-1])     # Negative indices count from the end of the list; prints \"2\""
      ],
      "execution_count": null,
      "outputs": [
        {
          "output_type": "stream",
          "text": [
            "[3, 1, 2] 2\n",
            "2\n"
          ],
          "name": "stdout"
        }
      ]
    },
    {
      "cell_type": "markdown",
      "metadata": {
        "id": "ofQQGRIdgZ_K"
      },
      "source": [
        "Note, Python uses zero based indexing, so the first element in the list has an index of 0. "
      ]
    },
    {
      "cell_type": "code",
      "metadata": {
        "id": "tZwbsfL9gUa6",
        "outputId": "77821b83-1263-42a1-a331-e75e51884c33",
        "colab": {
          "base_uri": "https://localhost:8080/"
        }
      },
      "source": [
        "print(my_list[0])"
      ],
      "execution_count": null,
      "outputs": [
        {
          "output_type": "stream",
          "text": [
            "3\n"
          ],
          "name": "stdout"
        }
      ]
    },
    {
      "cell_type": "markdown",
      "metadata": {
        "id": "NUeTxgDegk7g"
      },
      "source": [
        "You can change an element in a list in the following way:"
      ]
    },
    {
      "cell_type": "code",
      "metadata": {
        "id": "BcTGeGEUguVY",
        "outputId": "febb2e47-8573-4da5-f131-863630a23b36",
        "colab": {
          "base_uri": "https://localhost:8080/"
        }
      },
      "source": [
        "my_list[2] = 'CSAP'\n",
        "print(my_list)"
      ],
      "execution_count": null,
      "outputs": [
        {
          "output_type": "stream",
          "text": [
            "[3, 1, 'CSAP']\n"
          ],
          "name": "stdout"
        }
      ]
    },
    {
      "cell_type": "markdown",
      "metadata": {
        "id": "3qdprF5Agyw6"
      },
      "source": [
        "And you can append elements to a list:"
      ]
    },
    {
      "cell_type": "code",
      "metadata": {
        "id": "YLD6IuOYg03R",
        "outputId": "35fe2ad3-1da7-4844-f60a-3d1de3fcb172",
        "colab": {
          "base_uri": "https://localhost:8080/"
        }
      },
      "source": [
        "my_list.append('FY21')\n",
        "print(my_list)"
      ],
      "execution_count": null,
      "outputs": [
        {
          "output_type": "stream",
          "text": [
            "[3, 1, 'CSAP', 'FY21']\n"
          ],
          "name": "stdout"
        }
      ]
    },
    {
      "cell_type": "markdown",
      "metadata": {
        "id": "STwSBTqFg94x"
      },
      "source": [
        "### Dictionaries\n"
      ]
    },
    {
      "cell_type": "markdown",
      "metadata": {
        "id": "r-TCkvHuhBQ5"
      },
      "source": [
        "A dictionary stores key-value pair mappings and is indicated by the curly braces. Each mapping is separated by a comma and between each key value, we have a colon."
      ]
    },
    {
      "cell_type": "code",
      "metadata": {
        "id": "lVGxM3-Uhg3_"
      },
      "source": [
        "dict_csap = {\n",
        "    'year' : 'FY21',\n",
        "    'theater': 'EMEAR',\n",
        "    'people': 105,\n",
        "}"
      ],
      "execution_count": null,
      "outputs": []
    },
    {
      "cell_type": "markdown",
      "metadata": {
        "id": "yutB6TD4hzTY"
      },
      "source": [
        "You can look up dictionary entries and you can find whether the key exists in the dictionary or not"
      ]
    },
    {
      "cell_type": "code",
      "metadata": {
        "id": "FUvGQCXOhyuB",
        "outputId": "fe2f1156-47c3-4a70-bde1-ded34483ff04",
        "colab": {
          "base_uri": "https://localhost:8080/",
          "height": 51
        }
      },
      "source": [
        "print(dict_csap['year'])\n",
        "print('people' in dict_csap)"
      ],
      "execution_count": null,
      "outputs": [
        {
          "output_type": "stream",
          "text": [
            "FY21\n",
            "True\n"
          ],
          "name": "stdout"
        }
      ]
    },
    {
      "cell_type": "markdown",
      "metadata": {
        "id": "DpcyTx-fiErl"
      },
      "source": [
        "We can also add entries to the dictionary"
      ]
    },
    {
      "cell_type": "code",
      "metadata": {
        "id": "xH6AyKlciEN4",
        "outputId": "622d29b8-6578-414a-a71f-5b2497b7c7bb",
        "colab": {
          "base_uri": "https://localhost:8080/",
          "height": 34
        }
      },
      "source": [
        "dict_csap['bridge_to_possible'] = True\n",
        "print(dict_csap)"
      ],
      "execution_count": null,
      "outputs": [
        {
          "output_type": "stream",
          "text": [
            "{'year': 'FY21', 'theater': 'EMEAR', 'people': 105, 'bridge_to_possible': True}\n"
          ],
          "name": "stdout"
        }
      ]
    },
    {
      "cell_type": "markdown",
      "metadata": {
        "id": "Dus6WHWDO-40"
      },
      "source": [
        "## Computation constructs"
      ]
    },
    {
      "cell_type": "markdown",
      "metadata": {
        "id": "f-GS2cngPs5N"
      },
      "source": [
        "### If statements"
      ]
    },
    {
      "cell_type": "markdown",
      "metadata": {
        "id": "OAe-6p8LEigo"
      },
      "source": [
        "Sometimes, you want to execute a block of code only when some condition is satisfied. In that case, the if-elif-else statement allows you to respectively define that condition (IF), define what to do when it is satisfied, and define what to do when it is not (ELIF/ELSE)."
      ]
    },
    {
      "cell_type": "code",
      "metadata": {
        "id": "MCrUL4CLQJFj",
        "outputId": "ac3d51aa-ad41-4398-aa43-7a378431305e",
        "colab": {
          "base_uri": "https://localhost:8080/"
        }
      },
      "source": [
        "z = 3 # Feel free to modify 3 to your favorite number, and discover what this if-elif-else is all about!\n",
        "\n",
        "if (z%3 == 0):\n",
        "  print(\"Multiple of 3\")\n",
        "elif (z%2 == 0):\n",
        "  print(\"Multiple of 2\")\n",
        "else:\n",
        "  print(\"Boring number\")"
      ],
      "execution_count": null,
      "outputs": [
        {
          "output_type": "stream",
          "text": [
            "Multiple of 3\n"
          ],
          "name": "stdout"
        }
      ]
    },
    {
      "cell_type": "markdown",
      "metadata": {
        "id": "LNF0_eWOPwj0"
      },
      "source": [
        "### For/while statements"
      ]
    },
    {
      "cell_type": "markdown",
      "metadata": {
        "id": "1gZnOl-VEB07"
      },
      "source": [
        "For and while statements allow you to repeat execution of a block of code a number of times. That number of times is specified by some condition you define right next to the for/while keyword. Let's explore!"
      ]
    },
    {
      "cell_type": "code",
      "metadata": {
        "id": "2YVetUKOQdFF",
        "outputId": "666152f8-7c2d-40fa-bce9-eb6dbbdcc881",
        "colab": {
          "base_uri": "https://localhost:8080/"
        }
      },
      "source": [
        "# Print out the numbers between 2 and 6\n",
        "for x in range(2, 6):\n",
        "  print(x)"
      ],
      "execution_count": null,
      "outputs": [
        {
          "output_type": "stream",
          "text": [
            "2\n",
            "3\n",
            "4\n",
            "5\n"
          ],
          "name": "stdout"
        }
      ]
    },
    {
      "cell_type": "code",
      "metadata": {
        "id": "MKPXDgwdQo3m",
        "outputId": "5f726b3f-9eb5-4146-bc7f-4e78c2a6eaab",
        "colab": {
          "base_uri": "https://localhost:8080/"
        }
      },
      "source": [
        "# Print out the numbers between 2 and 6, now with a while loop\n",
        "x = 2\n",
        "\n",
        "while x<6:\n",
        "  print(x)\n",
        "  x += 1"
      ],
      "execution_count": null,
      "outputs": [
        {
          "output_type": "stream",
          "text": [
            "2\n",
            "3\n",
            "4\n",
            "5\n"
          ],
          "name": "stdout"
        }
      ]
    },
    {
      "cell_type": "markdown",
      "metadata": {
        "id": "kHiAeaqNP1uI"
      },
      "source": [
        "### Import statements"
      ]
    },
    {
      "cell_type": "markdown",
      "metadata": {
        "id": "RXqhpOo5DfAD"
      },
      "source": [
        "Import statements allow you to include existing Python modules into your code, so you can re-use the work of someone else in your own endeavours. In this example, we import the *numpy* module for manipulating arrays of numbers, and use its *sort* function for sorting a small array."
      ]
    },
    {
      "cell_type": "code",
      "metadata": {
        "id": "ryv-1LUSQ6As",
        "outputId": "67b0743b-0370-4b31-97f0-d0e1ce1cc03e",
        "colab": {
          "base_uri": "https://localhost:8080/"
        }
      },
      "source": [
        "import numpy as np\n",
        "\n",
        "a = np.array([1,4,2,5,3])\n",
        "sorted = np.sort(a)\n",
        "\n",
        "print(sorted)"
      ],
      "execution_count": null,
      "outputs": [
        {
          "output_type": "stream",
          "text": [
            "[1 2 3 4 5]\n"
          ],
          "name": "stdout"
        }
      ]
    },
    {
      "cell_type": "markdown",
      "metadata": {
        "id": "a8RPj0GGkRiU"
      },
      "source": [
        "### Functions"
      ]
    },
    {
      "cell_type": "markdown",
      "metadata": {
        "id": "QwuY7Qo3kUJQ"
      },
      "source": [
        "A **function** is a block of code that takes some input, performs a small task, and then gives you an output. You define a function in Python with the `def` keyword. "
      ]
    },
    {
      "cell_type": "code",
      "metadata": {
        "id": "QelmOza7kTYK",
        "outputId": "921a0c6a-a886-4c42-f8a1-13af83f83c31",
        "colab": {
          "base_uri": "https://localhost:8080/",
          "height": 102
        }
      },
      "source": [
        "# The input for this funciton is a rating between 1 and 10, the output is a highly subjective comment on that number :) \n",
        "def rate_csap(x):\n",
        "  if x > 8:\n",
        "    return \"CSAP is Awesome!\"\n",
        "  elif 5.5 <= x and x <= 8:\n",
        "    return \"CSAP is ok\"\n",
        "  elif x < 5.5:\n",
        "    return \"CSAP is meh\"\n",
        "\n",
        "for i in [0, 5.5, 7, 8, 9]:\n",
        "  print(rate_csap(i)) "
      ],
      "execution_count": null,
      "outputs": [
        {
          "output_type": "stream",
          "text": [
            "CSAP is meh\n",
            "CSAP is ok\n",
            "CSAP is ok\n",
            "CSAP is ok\n",
            "CSAP is Awesome!\n"
          ],
          "name": "stdout"
        }
      ]
    },
    {
      "cell_type": "markdown",
      "metadata": {
        "id": "bVxh0i4vo6tK"
      },
      "source": [
        "### Classes"
      ]
    },
    {
      "cell_type": "markdown",
      "metadata": {
        "id": "AeD39UYbo8IW"
      },
      "source": [
        "In essence, all elements used in Python code are **objects**. The \"blueprint\" for such objects, i.e., the things they know and can do, are defined by **classes**. Let's define the blueprint for a CSAPer!\n"
      ]
    },
    {
      "cell_type": "code",
      "metadata": {
        "id": "dtKlvUPNkQ03"
      },
      "source": [
        "class CSAPer:\n",
        "  \"\"\"\n",
        "  A class that constructs CSAPers\n",
        "  \"\"\"\n",
        "\n",
        "  # constructor\n",
        "\n",
        "  def __init__(self, name):\n",
        "    self.name = name  # Create an instance variable\n",
        "  \n",
        "  def study(self, extreme_mode = False):\n",
        "    # is the deadline coming up?\n",
        "    if extreme_mode:\n",
        "      print(\"{} is going to study 10 sections of the CPLL today!\".format(self.name))\n",
        "    else:\n",
        "      print(\"{} is going to study 1 section of the CPLL right now.\".format(self.name))\n",
        "  \n"
      ],
      "execution_count": null,
      "outputs": []
    },
    {
      "cell_type": "markdown",
      "metadata": {
        "id": "pfBxz5AfqCNg"
      },
      "source": [
        "Let's create a CSAP'er and let her study!"
      ]
    },
    {
      "cell_type": "code",
      "metadata": {
        "id": "rhFuO5wCqGgC"
      },
      "source": [
        "stien = CSAPer('Stien')"
      ],
      "execution_count": null,
      "outputs": []
    },
    {
      "cell_type": "code",
      "metadata": {
        "id": "KPA-wt6aqLcj",
        "outputId": "6e1fcf10-6c5a-41f1-9b23-877fd067e28d",
        "colab": {
          "base_uri": "https://localhost:8080/",
          "height": 34
        }
      },
      "source": [
        "stien.study(extreme_mode=True)"
      ],
      "execution_count": null,
      "outputs": [
        {
          "output_type": "stream",
          "text": [
            "Stien is going to study 10 sections of the CPLL today!\n"
          ],
          "name": "stdout"
        }
      ]
    },
    {
      "cell_type": "markdown",
      "metadata": {
        "id": "8PPv66ARLlcb"
      },
      "source": [
        "## Scripting"
      ]
    },
    {
      "cell_type": "markdown",
      "metadata": {
        "id": "IZCd_fW_LukH"
      },
      "source": [
        "Now that we know the different building blocks that exist in Python, let's start building! The following script is a mix of different elements we talked about before, and shows you the indentation shananigans Python is guilty of. "
      ]
    },
    {
      "cell_type": "code",
      "metadata": {
        "id": "4-gHu4nVMJDs",
        "outputId": "7ec59d0a-7a3d-4e89-8703-dc3dc96ec4e4",
        "colab": {
          "base_uri": "https://localhost:8080/"
        }
      },
      "source": [
        "class Dog:\n",
        "    def __init__(self, name):\n",
        "        self.name = name\n",
        "        self.barks = 0\n",
        "    \n",
        "    def bark(self):\n",
        "        print(\"Woof\")\n",
        "        self.barks += 1\n",
        "    \n",
        "    def bark_a_lot(self, nb_of_barks):\n",
        "        for i in range(nb_of_barks):\n",
        "          self.bark()\n",
        "\n",
        "simon = Dog(\"Simon\")\n",
        "simon.bark_a_lot(3)\n",
        "print(f'{simon.name} barked {simon.barks} times already, he is so annoying!')"
      ],
      "execution_count": null,
      "outputs": [
        {
          "output_type": "stream",
          "text": [
            "Woof\n",
            "Woof\n",
            "Woof\n",
            "Simon barked 3 times already, he is so annoying!\n"
          ],
          "name": "stdout"
        }
      ]
    },
    {
      "cell_type": "markdown",
      "metadata": {
        "id": "3GwhNZYjGgbl"
      },
      "source": [
        "# Yay, you reached the end of this prework! See you at the Python session 🐍"
      ]
    }
  ]
}